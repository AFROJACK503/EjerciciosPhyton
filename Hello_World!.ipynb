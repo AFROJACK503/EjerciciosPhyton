{
 "cells": [
  {
   "cell_type": "code",
   "execution_count": 1,
   "id": "de8c404a",
   "metadata": {},
   "outputs": [],
   "source": [
    "import pruebas\n",
    "from IPython import display\n"
   ]
  },
  {
   "cell_type": "markdown",
   "id": "c1ff476c",
   "metadata": {},
   "source": [
    "# PRIMER EJERCICIO: \n",
    "##  -- Hello World! --\n",
    "\n",
    "#### Cambia el nombre de Adolf Hittler por tu nombre o como te gustaria haberte llamado."
   ]
  },
  {
   "cell_type": "code",
   "execution_count": 6,
   "id": "b129744c",
   "metadata": {},
   "outputs": [
    {
     "name": "stdout",
     "output_type": "stream",
     "text": [
      "Hello World, My name is: Kelvin Garcia\n",
      "Hola Mundo, Mi nombre es: Kelvin Garcia\n"
     ]
    }
   ],
   "source": [
    "my_name = \"Kelvin Garcia\" # <--- Your name\n",
    "\n",
    "\n",
    "#Checking your name\n",
    "pruebas.check_name(my_name)"
   ]
  },
  {
   "cell_type": "markdown",
   "id": "c1c24b5c",
   "metadata": {},
   "source": [
    "# SEGUNDO EJERCICIO:\n",
    "## -- Comments --\n",
    "#### Escribe lo que te gustaria decirle a alguien que quieras, en una linea, y en otra escribe lo que le quieras decir a alguien que te haya lastimado recientemente."
   ]
  },
  {
   "cell_type": "code",
   "execution_count": 11,
   "id": "f0d1343d",
   "metadata": {},
   "outputs": [],
   "source": [
    "#ujibnfjkdabfsabdf\n",
    "\n"
   ]
  },
  {
   "cell_type": "markdown",
   "id": "ae2fbf0c",
   "metadata": {},
   "source": [
    "# TERCER EJERCICIO:\n",
    "## -- Prints --\n",
    "#### Imprime tu primer Hola Mundo! entre comillas ---> \"texto\", usando print statement"
   ]
  },
  {
   "cell_type": "code",
   "execution_count": 12,
   "id": "b6d5902c",
   "metadata": {},
   "outputs": [
    {
     "name": "stdout",
     "output_type": "stream",
     "text": [
      "Salut Monde!\n",
      "hola mundoo\n"
     ]
    }
   ],
   "source": [
    "#Ejemplo: \n",
    "print(\"Salut Monde!\")\n",
    "\n",
    "#Tu codigo aqui abajo:\n",
    "print(\"hola mundoo\")"
   ]
  },
  {
   "cell_type": "markdown",
   "id": "a78fc14d",
   "metadata": {},
   "source": [
    "# CUARTO EJERCICIO:\n",
    "## -- Strings --\n",
    "#### Imprime tu nombre con comillas dobles, y con comillas simples."
   ]
  },
  {
   "cell_type": "code",
   "execution_count": 14,
   "id": "ce30e812",
   "metadata": {},
   "outputs": [
    {
     "name": "stdout",
     "output_type": "stream",
     "text": [
      "Patricio Estrella\n",
      "Bob Esponja\n",
      "kelvin garcia\n",
      "kelvin garcia\n"
     ]
    }
   ],
   "source": [
    "#Ejemplo:\n",
    "print(\"Patricio Estrella\")\n",
    "print('Bob Esponja')\n",
    "\n",
    "#Tu codigo aqui abajo:\n",
    "\n",
    "print(\"kelvin garcia\")\n",
    "print('kelvin garcia')"
   ]
  },
  {
   "cell_type": "markdown",
   "id": "b48157e3",
   "metadata": {},
   "source": [
    "# QUINTO EJERCICIO:\n",
    "## -- Variables --\n",
    "#### Crea una variable llamada movie_1, asignale como valor una cadena con el nombre de una de tus peliculas favoritas, e imprime la variable para ver lo que contiene tu variable."
   ]
  },
  {
   "cell_type": "code",
   "execution_count": 17,
   "id": "1986b052",
   "metadata": {},
   "outputs": [
    {
     "name": "stdout",
     "output_type": "stream",
     "text": [
      "capitan america\n"
     ]
    }
   ],
   "source": [
    "movie_1 = \"capitan america\"\n",
    "print(movie_1)\n"
   ]
  },
  {
   "cell_type": "markdown",
   "id": "2499d17e",
   "metadata": {},
   "source": [
    "# SEXTO EJERCICIO:\n",
    "## -- Bugs or Errors --\n",
    "#### Cambia el codigo de abajo para que no tengas ningun bug en tu codigo. "
   ]
  },
  {
   "cell_type": "code",
   "execution_count": 20,
   "id": "32db49b6",
   "metadata": {},
   "outputs": [
    {
     "name": "stdout",
     "output_type": "stream",
     "text": [
      "Hacer codigo es facil lo dificil es arreglar los bugs\n",
      "CUBO\n"
     ]
    }
   ],
   "source": [
    "#First error is: SyntaxError\n",
    "print(\"Hacer codigo es facil lo dificil es arreglar los bugs\")\n",
    "      \n",
    "#Second error is: NameError\n",
    "print(\"CUBO\")"
   ]
  },
  {
   "cell_type": "markdown",
   "id": "91771719",
   "metadata": {},
   "source": [
    "# SEPTIMO EJERCICIO:\n",
    "## -- Numbers --"
   ]
  },
  {
   "cell_type": "code",
   "execution_count": null,
   "id": "886b92a5",
   "metadata": {},
   "outputs": [],
   "source": [
    "#Escribe tu fecha de nacimiento segun la variable asignada donde debe de ir cada uno de los numeros.\n",
    "year = \n",
    "day = \n",
    "month = \n",
    "\n",
    "#Escribe tu dia y mes de nacimiento, pero en formato float y los numeros de tu año de nacimiento sumados\n",
    "\n",
    "#ejemplo:\n",
    "my_birthday_float = 31.122 #---> 31 == Day, 1 == Month, 22 == year (1+9+5+7, 1957)\n",
    "\n",
    "#your turn\n",
    "floats_or_fraction = \n",
    "\n",
    "#Checking your float number\n",
    "pruebas.check_birthday_float(year, day, month, floats_or_fraction)"
   ]
  },
  {
   "cell_type": "markdown",
   "id": "06a2cedd",
   "metadata": {},
   "source": [
    "# OCTAVO EJERCICIO:\n",
    "## -- Calculations --\n",
    "#### Imprima el resultado de la siguiente operation: 388.786 + 545.36 / 25 * 15"
   ]
  },
  {
   "cell_type": "code",
   "execution_count": null,
   "id": "fb5784bd",
   "metadata": {},
   "outputs": [],
   "source": [
    "#Tu codigo aqui abajo:\n",
    "\n",
    "operation = \n",
    "\n",
    "#Imprima el resultado:\n",
    "\n",
    "\n",
    "\n",
    "#Checking your variable\n",
    "pruebas.check_operation(operation)"
   ]
  },
  {
   "cell_type": "markdown",
   "id": "6eebac29",
   "metadata": {},
   "source": [
    "# NOVENO EJERCICIO:\n",
    "## -- Changing Numbers --\n",
    "#### Medidas de mis edredones"
   ]
  },
  {
   "cell_type": "code",
   "execution_count": null,
   "id": "08e6298b",
   "metadata": {},
   "outputs": [],
   "source": [
    "quilts_width = 20\n",
    "quilts_length = 20\n",
    "\n",
    "#Checking the first measures\n",
    "pruebas.check_measures_1(quilts_width, quilts_length)\n",
    "\n",
    "\n",
    "#Imprime las medidas totales de tu edredon, ejemplo: width * length\n",
    "#Tu codigo aqui abajo:\n",
    "\n",
    "\n",
    "#Cambia la variable quilts_length con un valor de 15.7\n",
    "#Y quilts_width con un valor de 15\n",
    "\n",
    "\n",
    "\n",
    "\n",
    "#Checking your variables\n",
    "pruebas.check_measures_2(quilts_width, quilts_length)"
   ]
  },
  {
   "cell_type": "markdown",
   "id": "09aa0c58",
   "metadata": {},
   "source": [
    "# DECIMO EJERCICIO:\n",
    "## -- Exponents --\n",
    "\n",
    "#### Instructions:\n",
    "1: Me gusta mucho cómo quedaron los edredones cuadrados del último ejercicio y he decido que todos los edredones que haga serán cuadrados a partir de ahora. Usando el operador exponente, imprime cuántos mosaicos necesitarás para una colcha de 6x6, una colcha de 7x7 y una colcha de 8x8.\n",
    "\n",
    "2: Sus edredones de 6x6 han despegado tan bien que 6 personas han solicitado 6 edredones cada uno. Imprime cuántos mosaicos necesitarías para hacer 6 edredones cada uno para 6 personas."
   ]
  },
  {
   "cell_type": "code",
   "execution_count": null,
   "id": "d4cd4d79",
   "metadata": {},
   "outputs": [],
   "source": [
    "#Step 1: Aqui haz el primer paso que se te solicita en la explicacion.\n",
    "#ejemplo: 3x3 ---> 3**2, 4x4 ---> 4**2\n",
    "\n",
    "quilts_6x6 = \n",
    "\n",
    "quilts_7x7 = \n",
    "\n",
    "quilts_8x8 = \n",
    "\n",
    "\n",
    "#Checking your quilts\n",
    "pruebas.checking_quilts(quilts_6x6, quilts_7x7, quilts_8x8)"
   ]
  },
  {
   "cell_type": "code",
   "execution_count": null,
   "id": "f258378d",
   "metadata": {},
   "outputs": [],
   "source": [
    "#Step 2: Aqui aplica lo que se te solicita en el paso 2 de la explicacion de arriba.\n",
    "\n",
    "quilts_for_6_persons = \n",
    "\n",
    "#Checking your quilt\n",
    "pruebas.checking_quilt(quilts_for_6_persons)"
   ]
  },
  {
   "cell_type": "markdown",
   "id": "34b074c3",
   "metadata": {},
   "source": [
    "# UNDECIMO EJERCICIO:\n",
    "## -- Modulo --\n",
    "\n"
   ]
  },
  {
   "cell_type": "code",
   "execution_count": null,
   "id": "2efd79da",
   "metadata": {},
   "outputs": [],
   "source": [
    "#Juega con varios operations usando el modulo %\n",
    "#Tu codigo aqui abajo:\n",
    "\n",
    "\n"
   ]
  },
  {
   "cell_type": "markdown",
   "id": "b3272a78",
   "metadata": {},
   "source": [
    "# DUODECIMO EJERCICIO:\n",
    "## -- Concatenation --\n",
    "#### Concatena todas las strings"
   ]
  },
  {
   "cell_type": "code",
   "execution_count": null,
   "id": "80735c4a",
   "metadata": {},
   "outputs": [],
   "source": [
    "string1 = \"El CUBO me ha dado \"\n",
    "string2 = \"una gran oportunidad de aprendizaje, \"\n",
    "string3 = \"puedo hacer codigo con python, y \"\n",
    "string4 = \"sin tener que pagar un solo centavo.\"\n",
    "string5 = \" Procurare dar el maximo para mejorar cada dia, gracias al CUBO \"\n",
    "string6 = \"y a todos los que estan aqui por apoyarme.\"\n",
    "\n",
    "#Tu codigo aqui abajo:\n",
    "\n",
    "\n",
    "\n",
    "#Esto tienes que imprimir usando la concatenacion de todas las strings anteriores: \n",
    "\"\"\"El CUBO me ha dado una gran oportunidad de aprendizaje, \n",
    "   puedo hacer codigo con python, y sin tener que pagar un solo centavo. \n",
    "   Procurare dar el maximo para mejorar cada dia, \n",
    "   gracias al CUBO y a todos los que estan aqui por apoyarme.\"\"\""
   ]
  },
  {
   "cell_type": "markdown",
   "id": "c2eb72b6",
   "metadata": {},
   "source": [
    "# DECIMOTERCER EJERCICIO:\n",
    "## -- Plus Equals --\n",
    "#### Supongamos que eres el gerente general de una gran tiendita muy reconocida en tu colonia, \"Tiendita La Bendi\" y tienes que actualizar los precios de 3 de tus productos."
   ]
  },
  {
   "cell_type": "code",
   "execution_count": null,
   "id": "8e7ed0ff",
   "metadata": {},
   "outputs": [],
   "source": [
    "precio_churrito = 0.15\n",
    "\n",
    "precio_soda_bien_fria = 0.70\n",
    "\n",
    "precio_soda_no_fria = 0.60\n",
    "\n",
    "precio_soda_fiadores = 0.75\n",
    "\n",
    "#Llega el de la coca y te dice que la soda costara $0.10 centavos mas.\n",
    "#Aumenta el precio a las 3 variables de soda, usando += \n",
    "\n",
    "#tu codigo aqui abajo:\n",
    "\n",
    "\n",
    "\n",
    "#Printing tus precios, tienen que tener 0.80, 0.70 y 0.85 como resultados.\n",
    "print(precio_soda_bien_fria)\n",
    "print(precio_soda_no_fria)\n",
    "print(precio_soda_fiadores)"
   ]
  },
  {
   "cell_type": "markdown",
   "id": "c8e443f7",
   "metadata": {},
   "source": [
    "# DECIMOCUARTO EJERCICIO:\n",
    "## -- Multi-line Strings --\n",
    "#### Busca en google algun poema de Hugo Lindo, u otro poeta  y escritor de El Salvador, y escribe al menos 7 lineas de un poema, guarda la Multi-line string en una variable llamada con el nombre del poema que copiaste e imprimela."
   ]
  },
  {
   "cell_type": "code",
   "execution_count": null,
   "id": "d536b47b",
   "metadata": {},
   "outputs": [],
   "source": [
    "#Ejemplo. Poema: Dejad pues que Sucumba, De: Hugo Lindo:\n",
    "dejad_pues_que_sucumba = \"\"\"\n",
    "\n",
    "Todo el dolor te navegaba por la sangre.\n",
    "Un río largo descendía por la historia\n",
    "hasta llegar a tu lugar preciso.\n",
    "\n",
    "\n",
    "La sombra iba nadando sobre el río.\n",
    "El aire\n",
    "le pasaba la mano suavemente.\n",
    "\n",
    "\n",
    "Y los sauces lloraban siglo a siglo\n",
    "sus hojas,\n",
    "su rocío,\n",
    "su ternura,\n",
    "para amparar la soledad del hombre. \n",
    "...\n",
    "\n",
    "Hugo Lindo\"\"\"\n",
    "\n",
    "\n",
    "#Tu codigo aqui abajo:\n",
    "\n",
    "\n",
    "\n",
    "\n"
   ]
  }
 ],
 "metadata": {
  "kernelspec": {
   "display_name": "Python 3 (ipykernel)",
   "language": "python",
   "name": "python3"
  },
  "language_info": {
   "codemirror_mode": {
    "name": "ipython",
    "version": 3
   },
   "file_extension": ".py",
   "mimetype": "text/x-python",
   "name": "python",
   "nbconvert_exporter": "python",
   "pygments_lexer": "ipython3",
   "version": "3.9.12"
  }
 },
 "nbformat": 4,
 "nbformat_minor": 5
}
